{
 "cells": [
  {
   "cell_type": "code",
   "execution_count": 63,
   "metadata": {},
   "outputs": [],
   "source": [
    "import pandas as pd\n",
    "import numpy as np\n",
    "import matplotlib.pyplot as plt\n",
    "from matplotlib.pyplot import figure\n",
    "from statsmodels.tsa.seasonal import seasonal_decompose\n",
    "from statsmodels.tsa.stattools import adfuller\n",
    "from statsmodels.graphics.tsaplots import plot_acf, plot_pacf\n",
    "from statsmodels.tsa.arima.model import ARIMA\n",
    "from pandas import DataFrame\n",
    "from sklearn.metrics import mean_squared_error\n",
    "from math import sqrt\n",
    "import datetime"
   ]
  },
  {
   "cell_type": "code",
   "execution_count": 64,
   "metadata": {},
   "outputs": [],
   "source": [
    "df = pd.read_csv(\"rajdata.csv\")\n",
    "df.set_index(\"date\", inplace=True)\n",
    "df.index = pd.to_datetime(df.index)"
   ]
  },
  {
   "cell_type": "code",
   "execution_count": 65,
   "metadata": {},
   "outputs": [
    {
     "data": {
      "text/html": [
       "<div>\n",
       "<style scoped>\n",
       "    .dataframe tbody tr th:only-of-type {\n",
       "        vertical-align: middle;\n",
       "    }\n",
       "\n",
       "    .dataframe tbody tr th {\n",
       "        vertical-align: top;\n",
       "    }\n",
       "\n",
       "    .dataframe thead th {\n",
       "        text-align: right;\n",
       "    }\n",
       "</style>\n",
       "<table border=\"1\" class=\"dataframe\">\n",
       "  <thead>\n",
       "    <tr style=\"text-align: right;\">\n",
       "      <th></th>\n",
       "      <th>store</th>\n",
       "      <th>item</th>\n",
       "      <th>sales</th>\n",
       "    </tr>\n",
       "    <tr>\n",
       "      <th>date</th>\n",
       "      <th></th>\n",
       "      <th></th>\n",
       "      <th></th>\n",
       "    </tr>\n",
       "  </thead>\n",
       "  <tbody>\n",
       "    <tr>\n",
       "      <th>2013-01-01</th>\n",
       "      <td>1</td>\n",
       "      <td>1</td>\n",
       "      <td>13</td>\n",
       "    </tr>\n",
       "    <tr>\n",
       "      <th>2013-01-02</th>\n",
       "      <td>1</td>\n",
       "      <td>1</td>\n",
       "      <td>11</td>\n",
       "    </tr>\n",
       "    <tr>\n",
       "      <th>2013-01-03</th>\n",
       "      <td>1</td>\n",
       "      <td>1</td>\n",
       "      <td>14</td>\n",
       "    </tr>\n",
       "    <tr>\n",
       "      <th>2013-01-04</th>\n",
       "      <td>1</td>\n",
       "      <td>1</td>\n",
       "      <td>13</td>\n",
       "    </tr>\n",
       "    <tr>\n",
       "      <th>2013-01-05</th>\n",
       "      <td>1</td>\n",
       "      <td>1</td>\n",
       "      <td>10</td>\n",
       "    </tr>\n",
       "  </tbody>\n",
       "</table>\n",
       "</div>"
      ],
      "text/plain": [
       "            store  item  sales\n",
       "date                          \n",
       "2013-01-01      1     1     13\n",
       "2013-01-02      1     1     11\n",
       "2013-01-03      1     1     14\n",
       "2013-01-04      1     1     13\n",
       "2013-01-05      1     1     10"
      ]
     },
     "execution_count": 65,
     "metadata": {},
     "output_type": "execute_result"
    }
   ],
   "source": [
    "df.head()"
   ]
  },
  {
   "cell_type": "code",
   "execution_count": 66,
   "metadata": {},
   "outputs": [
    {
     "data": {
      "text/plain": [
       "2"
      ]
     },
     "execution_count": 66,
     "metadata": {},
     "output_type": "execute_result"
    }
   ],
   "source": [
    "#Number of distinct stores\n",
    "distinct_stores = len(df.store.unique())\n",
    "distinct_stores"
   ]
  },
  {
   "cell_type": "code",
   "execution_count": 67,
   "metadata": {},
   "outputs": [
    {
     "data": {
      "text/plain": [
       "1"
      ]
     },
     "execution_count": 67,
     "metadata": {},
     "output_type": "execute_result"
    }
   ],
   "source": [
    "#Number of distinct items\n",
    "distinct_items = len(df.item.unique())\n",
    "distinct_items"
   ]
  },
  {
   "cell_type": "code",
   "execution_count": 68,
   "metadata": {},
   "outputs": [
    {
     "data": {
      "text/plain": [
       "2"
      ]
     },
     "execution_count": 68,
     "metadata": {},
     "output_type": "execute_result"
    }
   ],
   "source": [
    "#Number of distinct store and item combinations\n",
    "distinct_combinations = len(df.groupby([\"store\", \"item\"]).mean())\n",
    "distinct_combinations"
   ]
  },
  {
   "cell_type": "code",
   "execution_count": 69,
   "metadata": {},
   "outputs": [],
   "source": [
    "#Creating a pipeline to summarize data per store-item combination\n",
    "\n",
    "#data = [{'b': 2, 'c':3}, {'a': 10, 'b': 20, 'c': 30}]\n",
    "\n",
    "data = []\n",
    "\n",
    "stores = [1, 2]\n",
    "items = [1]\n",
    "for store in stores:\n",
    "    for item in items:\n",
    "        row = {'store': store, 'item': item}\n",
    "        subset = df[df[\"store\"] == store]\n",
    "        subset = subset[subset[\"item\"] == item]\n",
    "        \n",
    "        #Number of rows\n",
    "        row[\"Total Historical Data\"] = subset.shape[0]\n",
    "        \n",
    "        #Missing Data\n",
    "        row[\"Missing Count\"] = subset.shape[0] - subset.dropna().shape[0]\n",
    "        row[\"Missing %\"] = row[\"Missing Count\"] / subset.shape[0]\n",
    "        \n",
    "        \n",
    "        #Summary Statistics\n",
    "        row[\"Total Sales\"] = sum(subset[\"sales\"])\n",
    "        row[\"Average Sales\"] = np.mean(subset[\"sales\"])\n",
    "        row[\"Sales SD\"] = np.std(subset[\"sales\"])\n",
    "        row[\"Sales Variance\"] = np.var(subset['sales'])\n",
    "        row[\"Sales Median\"] = subset['sales'].median()\n",
    "        row[\"Sales Min\"] = subset['sales'].min()\n",
    "        row[\"Sales Max\"] = subset['sales'].max()\n",
    "        \n",
    "        \n",
    "        \n",
    "        \n",
    "        \n",
    "        \n",
    "        \n",
    "        #Sales Per Day of Week\n",
    "        subset = subset.reset_index()\n",
    "        subset[\"weekday\"] = subset[\"date\"].apply(datetime.datetime.weekday)\n",
    "        row[\"Total Sales Mon\"] = sum(subset[subset[\"weekday\"] == 0][\"sales\"])\n",
    "        row[\"Total Sales Tue\"] = sum(subset[subset[\"weekday\"] == 1][\"sales\"])\n",
    "        row[\"Total Sales Wed\"] = sum(subset[subset[\"weekday\"] == 2][\"sales\"])\n",
    "        row[\"Total Sales Thu\"] = sum(subset[subset[\"weekday\"] == 3][\"sales\"])\n",
    "        row[\"Total Sales Fri\"] = sum(subset[subset[\"weekday\"] == 4][\"sales\"])\n",
    "        row[\"Total Sales Sat\"] = sum(subset[subset[\"weekday\"] == 5][\"sales\"])\n",
    "        row[\"Total Sales Sun\"] = sum(subset[subset[\"weekday\"] == 6][\"sales\"])\n",
    "        \n",
    "        \n",
    "        \n",
    "        #Percentage of Sales Per Day of Week\n",
    "        row[\"% of Sales Mon\"] = row[\"Total Sales Mon\"] / row[\"Total Sales\"]\n",
    "        row[\"% of Sales Tue\"] = row[\"Total Sales Tue\"] / row[\"Total Sales\"]\n",
    "        row[\"% of Sales Wed\"] = row[\"Total Sales Wed\"] / row[\"Total Sales\"]\n",
    "        row[\"% of Sales Thu\"] = row[\"Total Sales Thu\"] / row[\"Total Sales\"]\n",
    "        row[\"% of Sales Fri\"] = row[\"Total Sales Fri\"] / row[\"Total Sales\"]\n",
    "        row[\"% of Sales Sat\"] = row[\"Total Sales Sat\"] / row[\"Total Sales\"]\n",
    "        row[\"% of Sales Sun\"] = row[\"Total Sales Sun\"] / row[\"Total Sales\"]\n",
    "        \n",
    "        #Add data of store-item combination to congregated data \n",
    "        data.append(row)\n",
    "        \n",
    "        \n",
    "        "
   ]
  },
  {
   "cell_type": "code",
   "execution_count": 70,
   "metadata": {},
   "outputs": [
    {
     "data": {
      "text/html": [
       "<div>\n",
       "<style scoped>\n",
       "    .dataframe tbody tr th:only-of-type {\n",
       "        vertical-align: middle;\n",
       "    }\n",
       "\n",
       "    .dataframe tbody tr th {\n",
       "        vertical-align: top;\n",
       "    }\n",
       "\n",
       "    .dataframe thead th {\n",
       "        text-align: right;\n",
       "    }\n",
       "</style>\n",
       "<table border=\"1\" class=\"dataframe\">\n",
       "  <thead>\n",
       "    <tr style=\"text-align: right;\">\n",
       "      <th></th>\n",
       "      <th>store</th>\n",
       "      <th>item</th>\n",
       "      <th>Total Historical Data</th>\n",
       "      <th>Missing Count</th>\n",
       "      <th>Missing %</th>\n",
       "      <th>Total Sales</th>\n",
       "      <th>Average Sales</th>\n",
       "      <th>Sales SD</th>\n",
       "      <th>Sales Variance</th>\n",
       "      <th>Sales Median</th>\n",
       "      <th>...</th>\n",
       "      <th>Total Sales Fri</th>\n",
       "      <th>Total Sales Sat</th>\n",
       "      <th>Total Sales Sun</th>\n",
       "      <th>% of Sales Mon</th>\n",
       "      <th>% of Sales Tue</th>\n",
       "      <th>% of Sales Wed</th>\n",
       "      <th>% of Sales Thu</th>\n",
       "      <th>% of Sales Fri</th>\n",
       "      <th>% of Sales Sat</th>\n",
       "      <th>% of Sales Sun</th>\n",
       "    </tr>\n",
       "  </thead>\n",
       "  <tbody>\n",
       "    <tr>\n",
       "      <th>0</th>\n",
       "      <td>1</td>\n",
       "      <td>1</td>\n",
       "      <td>1826</td>\n",
       "      <td>0</td>\n",
       "      <td>0.0</td>\n",
       "      <td>36468</td>\n",
       "      <td>19.971522</td>\n",
       "      <td>6.739176</td>\n",
       "      <td>45.416495</td>\n",
       "      <td>19.0</td>\n",
       "      <td>...</td>\n",
       "      <td>5485</td>\n",
       "      <td>5996</td>\n",
       "      <td>6211</td>\n",
       "      <td>0.111111</td>\n",
       "      <td>0.130032</td>\n",
       "      <td>0.134501</td>\n",
       "      <td>0.139218</td>\n",
       "      <td>0.150406</td>\n",
       "      <td>0.164418</td>\n",
       "      <td>0.170314</td>\n",
       "    </tr>\n",
       "    <tr>\n",
       "      <th>1</th>\n",
       "      <td>2</td>\n",
       "      <td>1</td>\n",
       "      <td>1826</td>\n",
       "      <td>0</td>\n",
       "      <td>0.0</td>\n",
       "      <td>51445</td>\n",
       "      <td>28.173604</td>\n",
       "      <td>8.678635</td>\n",
       "      <td>75.318712</td>\n",
       "      <td>28.0</td>\n",
       "      <td>...</td>\n",
       "      <td>7955</td>\n",
       "      <td>8334</td>\n",
       "      <td>8536</td>\n",
       "      <td>0.115308</td>\n",
       "      <td>0.131072</td>\n",
       "      <td>0.129031</td>\n",
       "      <td>0.142035</td>\n",
       "      <td>0.154631</td>\n",
       "      <td>0.161998</td>\n",
       "      <td>0.165925</td>\n",
       "    </tr>\n",
       "  </tbody>\n",
       "</table>\n",
       "<p>2 rows × 26 columns</p>\n",
       "</div>"
      ],
      "text/plain": [
       "   store  item  Total Historical Data  Missing Count  Missing %  Total Sales  \\\n",
       "0      1     1                   1826              0        0.0        36468   \n",
       "1      2     1                   1826              0        0.0        51445   \n",
       "\n",
       "   Average Sales  Sales SD  Sales Variance  Sales Median  ...  \\\n",
       "0      19.971522  6.739176       45.416495          19.0  ...   \n",
       "1      28.173604  8.678635       75.318712          28.0  ...   \n",
       "\n",
       "   Total Sales Fri  Total Sales Sat  Total Sales Sun  % of Sales Mon  \\\n",
       "0             5485             5996             6211        0.111111   \n",
       "1             7955             8334             8536        0.115308   \n",
       "\n",
       "   % of Sales Tue  % of Sales Wed  % of Sales Thu  % of Sales Fri  \\\n",
       "0        0.130032        0.134501        0.139218        0.150406   \n",
       "1        0.131072        0.129031        0.142035        0.154631   \n",
       "\n",
       "   % of Sales Sat  % of Sales Sun  \n",
       "0        0.164418        0.170314  \n",
       "1        0.161998        0.165925  \n",
       "\n",
       "[2 rows x 26 columns]"
      ]
     },
     "execution_count": 70,
     "metadata": {},
     "output_type": "execute_result"
    }
   ],
   "source": [
    "summary = pd.DataFrame(data)\n",
    "summary"
   ]
  },
  {
   "cell_type": "code",
   "execution_count": 74,
   "metadata": {},
   "outputs": [
    {
     "data": {
      "text/plain": [
       "<AxesSubplot:xlabel='date'>"
      ]
     },
     "execution_count": 74,
     "metadata": {},
     "output_type": "execute_result"
    },
    {
     "data": {
      "image/png": "[encoded data removed]",
      "text/plain": [
       "<Figure size 432x288 with 1 Axes>"
      ]
     },
     "metadata": {
      "needs_background": "light"
     },
     "output_type": "display_data"
    }
   ],
   "source": [
    "#Generate plots for each and every store by date\n",
    "fd = df.reset_index()\n",
    "store_totals = fd.groupby([\"date\", \"store\"]).sum()[\"sales\"]\n",
    "store_totals.unstack().plot()"
   ]
  },
  {
   "cell_type": "code",
   "execution_count": null,
   "metadata": {},
   "outputs": [],
   "source": [
    "#Build some basic time series models such as arima and \n",
    "#exponential smoothing models (single, double and triple)\n",
    "\n",
    "#how many days should I predict in advance? I believe Raj said to do 90,\n",
    "#unless that was just some arbitrary number"
   ]
  },
  {
   "cell_type": "code",
   "execution_count": null,
   "metadata": {},
   "outputs": [],
   "source": [
    "! pip install pmdarima\n",
    "from pmdarima.arima import auto_arima\n"
   ]
  },
  {
   "cell_type": "code",
   "execution_count": null,
   "metadata": {},
   "outputs": [],
   "source": [
    "X = passengers[\"#Passengers\"]\n",
    "size = int(len(X) * 0.66)\n",
    "train, test = X[0:size], X[size:len(X)]\n",
    "\n",
    "plt.plot(train)\n",
    "plt.plot(test)\n",
    "plt.title(\"Passengers Test vs Train Data\")\n"
   ]
  },
  {
   "cell_type": "code",
   "execution_count": null,
   "metadata": {},
   "outputs": [],
   "source": [
    "arima_model = auto_arima(train, start_p=0, d=1, start_q=0, max_p=5, \n",
    "                         max_d=5, max_q=5,start_P=0, D=1, start_Q=0, \n",
    "                         max_P=5, max_D=5, max_Q=5, m=12, seasonal=True, \n",
    "                         error_action='warn', trace = True, \n",
    "                         supress_warnings=True, stepwise = True)"
   ]
  }
 ],
 "metadata": {
  "kernelspec": {
   "display_name": "Python 3",
   "language": "python",
   "name": "python3"
  },
  "language_info": {
   "codemirror_mode": {
    "name": "ipython",
    "version": 3
   },
   "file_extension": ".py",
   "mimetype": "text/x-python",
   "name": "python",
   "nbconvert_exporter": "python",
   "pygments_lexer": "ipython3",
   "version": "3.8.5"
  }
 },
 "nbformat": 4,
 "nbformat_minor": 4
}
